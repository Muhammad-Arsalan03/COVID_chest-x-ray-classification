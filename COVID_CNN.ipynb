{
  "cells": [
    {
      "cell_type": "code",
      "execution_count": null,
      "metadata": {
        "id": "Wrva1M7HQCzy"
      },
      "outputs": [],
      "source": [
        "import numpy as np\n",
        "import matplotlib.pyplot as plt\n",
        "\n",
        "import keras\n",
        "from keras.layers import Dense, Conv2D, MaxPool2D, Dropout, Flatten\n",
        "from keras.models import sequential\n",
        "from keras.preprocessing import image"
      ]
    },
    {
      "cell_type": "code",
      "execution_count": null,
      "metadata": {
        "colab": {
          "base_uri": "https://localhost:8080/"
        },
        "id": "Jhys0QSPrKdq",
        "outputId": "a6098a5d-e3fd-4d47-d825-cda9c8fa79b3"
      },
      "outputs": [
        {
          "output_type": "stream",
          "name": "stdout",
          "text": [
            "Archive:  /content/Dataset.rar\n",
            "  End-of-central-directory signature not found.  Either this file is not\n",
            "  a zipfile, or it constitutes one disk of a multi-part archive.  In the\n",
            "  latter case the central directory and zipfile comment will be found on\n",
            "  the last disk(s) of this archive.\n",
            "unzip:  cannot find zipfile directory in one of /content/Dataset.rar or\n",
            "        /content/Dataset.rar.zip, and cannot find /content/Dataset.rar.ZIP, period.\n"
          ]
        }
      ],
      "source": [
        "!unzip \"/content/Dataset.rar\""
      ]
    },
    {
      "cell_type": "code",
      "execution_count": null,
      "metadata": {
        "colab": {
          "base_uri": "https://localhost:8080/"
        },
        "id": "X8XPitsgnez8",
        "outputId": "7823a06f-ba78-457b-c4f6-b5d47ca75d8a"
      },
      "outputs": [
        {
          "name": "stdout",
          "output_type": "stream",
          "text": [
            "Found 5154 images belonging to 2 classes.\n"
          ]
        }
      ],
      "source": [
        "train_datagen= image.ImageDataGenerator(\n",
        "    rescale=1/255, horizontal_flip= True, zoom_range=0.2, shear_range=0.2\n",
        ")\n",
        "\n",
        "train_data=train_datagen.flow_from_directory(directory=\"/content/chest_xray_split_png/train\", target_size= (256,256), batch_size= 1,\n",
        "                                             class_mode = 'binary'\n",
        "                                             )"
      ]
    },
    {
      "cell_type": "code",
      "execution_count": null,
      "metadata": {
        "colab": {
          "base_uri": "https://localhost:8080/"
        },
        "id": "t9CSz_SDo1-E",
        "outputId": "38a8b415-dff4-48dd-8f84-9b9d0adf764b"
      },
      "outputs": [
        {
          "data": {
            "text/plain": [
              "{'covid': 0, 'noncovid': 1}"
            ]
          },
          "execution_count": 10,
          "metadata": {},
          "output_type": "execute_result"
        }
      ],
      "source": [
        "train_data.class_indices"
      ]
    },
    {
      "cell_type": "code",
      "execution_count": null,
      "metadata": {
        "colab": {
          "base_uri": "https://localhost:8080/"
        },
        "id": "BHvwfeWZrZjb",
        "outputId": "de9ea3ca-b113-40ce-cfd6-f6f5885a6a1d"
      },
      "outputs": [
        {
          "name": "stdout",
          "output_type": "stream",
          "text": [
            "Found 1718 images belonging to 2 classes.\n"
          ]
        }
      ],
      "source": [
        "test_datagen= image.ImageDataGenerator(\n",
        "    rescale=1/255\n",
        ")\n",
        "\n",
        "test_data=test_datagen.flow_from_directory(directory=\"/content/chest_xray_split_png/test\", target_size= (256,256), batch_size= 16,\n",
        "                                             class_mode = 'binary'\n",
        "                                             )"
      ]
    },
    {
      "cell_type": "code",
      "execution_count": null,
      "metadata": {
        "colab": {
          "base_uri": "https://localhost:8080/"
        },
        "id": "K_ZzamNfsHoS",
        "outputId": "95e96fb1-a0ef-4a49-8ae7-fdc4abaa7eb8"
      },
      "outputs": [
        {
          "data": {
            "text/plain": [
              "{'covid': 0, 'noncovid': 1}"
            ]
          },
          "execution_count": 12,
          "metadata": {},
          "output_type": "execute_result"
        }
      ],
      "source": [
        "test_data.class_indices"
      ]
    },
    {
      "cell_type": "code",
      "execution_count": null,
      "metadata": {
        "id": "jk2KgUVfsM5v"
      },
      "outputs": [],
      "source": [
        "from keras.engine.sequential import Sequential\n",
        "model = Sequential()\n",
        "model.add(Conv2D(filters=32, kernel_size=(3,3), activation='relu', input_shape= (256,256,3)))\n",
        "model.add(Conv2D(filters=64, kernel_size=(3,3), activation='relu'))\n",
        "model.add(MaxPool2D())\n",
        "model.add(Dropout(rate=0.25)) \n",
        "\n",
        "model.add(Conv2D(filters=64, kernel_size=(3,3), activation='relu'))\n",
        "model.add(MaxPool2D())\n",
        "model.add(Dropout(rate=0.25)) \n",
        "\n",
        "model.add(Conv2D(filters=128, kernel_size=(3,3), activation='relu'))\n",
        "model.add(MaxPool2D())\n",
        "model.add(Dropout(rate=0.25))\n",
        "\n",
        "model.add(Flatten())\n",
        "model.add(Dense(units=64, activation='relu'))\n",
        "model.add(Dropout(rate=0.50))\n",
        "model.add(Dense(units=1, activation='sigmoid'))\n",
        "\n",
        "model.compile (loss=keras.losses.binary_crossentropy, optimizer=\"adam\", metrics=['acc'])\n"
      ]
    },
    {
      "cell_type": "code",
      "execution_count": null,
      "metadata": {
        "colab": {
          "base_uri": "https://localhost:8080/"
        },
        "id": "vWACf4i-vYMJ",
        "outputId": "66b5bafb-b1e9-45a2-d64e-9edd8276ba95"
      },
      "outputs": [
        {
          "name": "stdout",
          "output_type": "stream",
          "text": [
            "Model: \"sequential_1\"\n",
            "_________________________________________________________________\n",
            " Layer (type)                Output Shape              Param #   \n",
            "=================================================================\n",
            " conv2d_4 (Conv2D)           (None, 254, 254, 32)      896       \n",
            "                                                                 \n",
            " conv2d_5 (Conv2D)           (None, 252, 252, 64)      18496     \n",
            "                                                                 \n",
            " max_pooling2d_3 (MaxPooling  (None, 126, 126, 64)     0         \n",
            " 2D)                                                             \n",
            "                                                                 \n",
            " dropout_4 (Dropout)         (None, 126, 126, 64)      0         \n",
            "                                                                 \n",
            " conv2d_6 (Conv2D)           (None, 124, 124, 64)      36928     \n",
            "                                                                 \n",
            " max_pooling2d_4 (MaxPooling  (None, 62, 62, 64)       0         \n",
            " 2D)                                                             \n",
            "                                                                 \n",
            " dropout_5 (Dropout)         (None, 62, 62, 64)        0         \n",
            "                                                                 \n",
            " conv2d_7 (Conv2D)           (None, 60, 60, 128)       73856     \n",
            "                                                                 \n",
            " max_pooling2d_5 (MaxPooling  (None, 30, 30, 128)      0         \n",
            " 2D)                                                             \n",
            "                                                                 \n",
            " dropout_6 (Dropout)         (None, 30, 30, 128)       0         \n",
            "                                                                 \n",
            " flatten_1 (Flatten)         (None, 115200)            0         \n",
            "                                                                 \n",
            " dense_2 (Dense)             (None, 64)                7372864   \n",
            "                                                                 \n",
            " dropout_7 (Dropout)         (None, 64)                0         \n",
            "                                                                 \n",
            " dense_3 (Dense)             (None, 1)                 65        \n",
            "                                                                 \n",
            "=================================================================\n",
            "Total params: 7,503,105\n",
            "Trainable params: 7,503,105\n",
            "Non-trainable params: 0\n",
            "_________________________________________________________________\n"
          ]
        }
      ],
      "source": [
        "model.summary()"
      ]
    },
    {
      "cell_type": "code",
      "execution_count": null,
      "metadata": {
        "colab": {
          "background_save": true
        },
        "id": "RK3alhEKxy05"
      },
      "outputs": [],
      "source": [
        "model.fit_generator(train_data, steps_per_epoch=8, epochs=100, validation_steps=2,\n",
        "                    validation_data=test_data)"
      ]
    },
    {
      "cell_type": "code",
      "execution_count": null,
      "metadata": {
        "colab": {
          "base_uri": "https://localhost:8080/"
        },
        "id": "sl24HCAEy5X0",
        "outputId": "36c4b059-9b40-450d-b465-13a4e73953b0"
      },
      "outputs": [
        {
          "data": {
            "text/plain": [
              "(1, 256, 256, 3)"
            ]
          },
          "execution_count": 92,
          "metadata": {},
          "output_type": "execute_result"
        }
      ],
      "source": [
        "from os import path\n",
        "path=\"/content/chest_xray_split_png/train/noncovid/image/1676196.png\"\n",
        "img= image.load_img(path, target_size=(256,256))\n",
        "\n",
        "img=image.img_to_array(img)/255\n",
        "img=np.array([img])\n",
        "img.shape\n"
      ]
    },
    {
      "cell_type": "code",
      "execution_count": null,
      "metadata": {
        "id": "Xy9jHawN8zHH"
      },
      "outputs": [],
      "source": [
        "model.predict(img)"
      ]
    },
    {
      "cell_type": "code",
      "execution_count": null,
      "metadata": {
        "colab": {
          "base_uri": "https://localhost:8080/"
        },
        "id": "C989wdyd9Tni",
        "outputId": "54fa9794-8496-4647-e321-01c6882b5d5a"
      },
      "outputs": [
        {
          "data": {
            "text/plain": [
              "array([0])"
            ]
          },
          "execution_count": 93,
          "metadata": {},
          "output_type": "execute_result"
        }
      ],
      "source": [
        "np.argmax(model.predict(img), axis=-1)"
      ]
    },
    {
      "cell_type": "code",
      "execution_count": null,
      "metadata": {
        "colab": {
          "base_uri": "https://localhost:8080/"
        },
        "id": "Ckp3_i-k4fRa",
        "outputId": "eaf3ef96-55da-4ede-e8c8-b6388b75ffba"
      },
      "outputs": [
        {
          "data": {
            "text/plain": [
              "array([[1]], dtype=int32)"
            ]
          },
          "execution_count": 90,
          "metadata": {},
          "output_type": "execute_result"
        }
      ],
      "source": [
        "(model.predict(img) > 0.5).astype(\"int32\")"
      ]
    },
    {
      "cell_type": "code",
      "execution_count": null,
      "metadata": {
        "colab": {
          "base_uri": "https://localhost:8080/"
        },
        "id": "pr-V8_xqzuPb",
        "outputId": "d3dbaa28-a40e-4f5c-88cb-f1ec211884bc"
      },
      "outputs": [
        {
          "name": "stdout",
          "output_type": "stream",
          "text": [
            "COVID PATIENT\n"
          ]
        }
      ],
      "source": [
        "Result=model.predict(img)\n",
        "if model.predict(img)>0.5:\n",
        "  print ('COVID PATIENT')\n",
        "else:\n",
        "  print ('Non-COVID ')\n"
      ]
    }
  ],
  "metadata": {
    "colab": {
      "collapsed_sections": [],
      "name": "COVID_CNN.ipynb",
      "provenance": []
    },
    "kernelspec": {
      "display_name": "Python 3",
      "name": "python3"
    },
    "language_info": {
      "name": "python"
    }
  },
  "nbformat": 4,
  "nbformat_minor": 0
}